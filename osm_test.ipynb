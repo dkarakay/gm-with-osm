{
 "cells": [
  {
   "cell_type": "code",
   "execution_count": 35,
   "metadata": {},
   "outputs": [
    {
     "data": {
      "text/plain": [
       "'1.0.1'"
      ]
     },
     "execution_count": 35,
     "metadata": {},
     "output_type": "execute_result"
    }
   ],
   "source": [
    "import matplotlib.pyplot as plt\n",
    "import osmnx as ox\n",
    "from IPython.display import Image\n",
    "\n",
    "ox.config(log_console=True)\n",
    "ox.__version__"
   ]
  },
  {
   "cell_type": "code",
   "execution_count": 36,
   "metadata": {},
   "outputs": [],
   "source": [
    "def create_map_from_osm(outfile: str, c_osm: int, north: float, south: float, west: float, east: float):\n",
    "    dpi = 100\n",
    "    default_width = 2\n",
    "    network_type = 'drive'\n",
    "\n",
    "    fp = f'./images/{outfile}-osm-{c_osm}.png'\n",
    "\n",
    "    tag_building = {'building': True}\n",
    "    tag_nature = {'natural': True, 'landuse': 'forest', 'landuse': 'grass'}\n",
    "    tag_water = {'natural': 'water'}\n",
    "\n",
    "    G = ox.graph_from_bbox(north, south, east, west, network_type=network_type)\n",
    "    gdf_building = ox.geometries_from_bbox(north, south, east, west, tags=tag_building)\n",
    "    gdf_nature = ox.geometries_from_bbox(north, south, east, west, tags=tag_nature)\n",
    "    gdf_water = ox.geometries_from_bbox(north, south, east, west, tags=tag_water)\n",
    "\n",
    "    fig, ax = ox.plot_figure_ground(G, default_width=default_width, save=False, show=False, close=True)\n",
    "    fig, ax = ox.plot_footprints(gdf_nature, color='green', ax=ax, filepath=fp, dpi=dpi, save=True, show=False,\n",
    "                                 close=True)\n",
    "    fig, ax = ox.plot_footprints(gdf_water, color='blue', ax=ax, filepath=fp, dpi=dpi, save=True, show=False,\n",
    "                                 close=True)\n",
    "    fig, ax = ox.plot_footprints(gdf_building, ax=ax, filepath=fp, dpi=dpi, save=True, show=False, close=True)\n",
    "\n"
   ]
  },
  {
   "cell_type": "code",
   "execution_count": 44,
   "metadata": {},
   "outputs": [],
   "source": [
    "def getting_boundary_coordinates(lat: float, lon: float) -> (float, float, float, float):\n",
    "    lat_coef = 0.00032*2\n",
    "    long_coef = 0.00094*2\n",
    "\n",
    "    north = lat + lat_coef\n",
    "    south = lat - lat_coef\n",
    "    east = lon + long_coef\n",
    "    west = lon - long_coef\n",
    "\n",
    "    return north, south, east, west\n"
   ]
  },
  {
   "cell_type": "code",
   "execution_count": 45,
   "metadata": {},
   "outputs": [],
   "source": [
    "latitude = 40.0100192\n",
    "longitude = -83.0134145\n",
    "outfile = 'test'\n",
    "c_osm = 4\n"
   ]
  },
  {
   "cell_type": "code",
   "execution_count": 46,
   "metadata": {},
   "outputs": [],
   "source": [
    "north, south, east, west = getting_boundary_coordinates(lat=latitude, lon=longitude)"
   ]
  },
  {
   "cell_type": "code",
   "execution_count": 47,
   "metadata": {},
   "outputs": [
    {
     "name": "stdout",
     "output_type": "stream",
     "text": [
      "40.0106592\n",
      "40.009379200000005\n",
      "-83.0115345\n",
      "-83.0152945\n"
     ]
    }
   ],
   "source": [
    "print(north)\n",
    "print(south)\n",
    "print(east)\n",
    "print(west)"
   ]
  },
  {
   "cell_type": "code",
   "execution_count": 24,
   "metadata": {},
   "outputs": [
    {
     "ename": "NetworkXPointlessConcept",
     "evalue": "Connectivity is undefined for the null graph.",
     "output_type": "error",
     "traceback": [
      "\u001B[0;31m---------------------------------------------------------------------------\u001B[0m",
      "\u001B[0;31mNetworkXPointlessConcept\u001B[0m                  Traceback (most recent call last)",
      "\u001B[0;32m<ipython-input-24-7b67264dc00e>\u001B[0m in \u001B[0;36m<module>\u001B[0;34m\u001B[0m\n\u001B[0;32m----> 1\u001B[0;31m \u001B[0mcreate_map_from_osm\u001B[0m\u001B[0;34m(\u001B[0m\u001B[0moutfile\u001B[0m\u001B[0;34m=\u001B[0m\u001B[0moutfile\u001B[0m\u001B[0;34m,\u001B[0m \u001B[0mc_osm\u001B[0m\u001B[0;34m=\u001B[0m\u001B[0mc_osm\u001B[0m\u001B[0;34m,\u001B[0m \u001B[0mnorth\u001B[0m\u001B[0;34m=\u001B[0m\u001B[0mnorth\u001B[0m\u001B[0;34m,\u001B[0m \u001B[0msouth\u001B[0m\u001B[0;34m=\u001B[0m\u001B[0msouth\u001B[0m\u001B[0;34m,\u001B[0m \u001B[0meast\u001B[0m\u001B[0;34m=\u001B[0m\u001B[0meast\u001B[0m\u001B[0;34m,\u001B[0m \u001B[0mwest\u001B[0m\u001B[0;34m=\u001B[0m\u001B[0mwest\u001B[0m\u001B[0;34m)\u001B[0m\u001B[0;34m\u001B[0m\u001B[0;34m\u001B[0m\u001B[0m\n\u001B[0m",
      "\u001B[0;32m<ipython-input-19-0f30c310f9b1>\u001B[0m in \u001B[0;36mcreate_map_from_osm\u001B[0;34m(outfile, c_osm, north, south, west, east)\u001B[0m\n\u001B[1;32m     10\u001B[0m     \u001B[0mtag_water\u001B[0m \u001B[0;34m=\u001B[0m \u001B[0;34m{\u001B[0m\u001B[0;34m'natural'\u001B[0m\u001B[0;34m:\u001B[0m \u001B[0;34m'water'\u001B[0m\u001B[0;34m}\u001B[0m\u001B[0;34m\u001B[0m\u001B[0;34m\u001B[0m\u001B[0m\n\u001B[1;32m     11\u001B[0m \u001B[0;34m\u001B[0m\u001B[0m\n\u001B[0;32m---> 12\u001B[0;31m     \u001B[0mG\u001B[0m \u001B[0;34m=\u001B[0m \u001B[0mox\u001B[0m\u001B[0;34m.\u001B[0m\u001B[0mgraph_from_bbox\u001B[0m\u001B[0;34m(\u001B[0m\u001B[0mnorth\u001B[0m\u001B[0;34m,\u001B[0m \u001B[0msouth\u001B[0m\u001B[0;34m,\u001B[0m \u001B[0meast\u001B[0m\u001B[0;34m,\u001B[0m \u001B[0mwest\u001B[0m\u001B[0;34m,\u001B[0m \u001B[0mnetwork_type\u001B[0m\u001B[0;34m=\u001B[0m\u001B[0mnetwork_type\u001B[0m\u001B[0;34m)\u001B[0m\u001B[0;34m\u001B[0m\u001B[0;34m\u001B[0m\u001B[0m\n\u001B[0m\u001B[1;32m     13\u001B[0m     \u001B[0mgdf_building\u001B[0m \u001B[0;34m=\u001B[0m \u001B[0mox\u001B[0m\u001B[0;34m.\u001B[0m\u001B[0mgeometries_from_bbox\u001B[0m\u001B[0;34m(\u001B[0m\u001B[0mnorth\u001B[0m\u001B[0;34m,\u001B[0m \u001B[0msouth\u001B[0m\u001B[0;34m,\u001B[0m \u001B[0meast\u001B[0m\u001B[0;34m,\u001B[0m \u001B[0mwest\u001B[0m\u001B[0;34m,\u001B[0m \u001B[0mtags\u001B[0m\u001B[0;34m=\u001B[0m\u001B[0mtag_building\u001B[0m\u001B[0;34m)\u001B[0m\u001B[0;34m\u001B[0m\u001B[0;34m\u001B[0m\u001B[0m\n\u001B[1;32m     14\u001B[0m     \u001B[0mgdf_nature\u001B[0m \u001B[0;34m=\u001B[0m \u001B[0mox\u001B[0m\u001B[0;34m.\u001B[0m\u001B[0mgeometries_from_bbox\u001B[0m\u001B[0;34m(\u001B[0m\u001B[0mnorth\u001B[0m\u001B[0;34m,\u001B[0m \u001B[0msouth\u001B[0m\u001B[0;34m,\u001B[0m \u001B[0meast\u001B[0m\u001B[0;34m,\u001B[0m \u001B[0mwest\u001B[0m\u001B[0;34m,\u001B[0m \u001B[0mtags\u001B[0m\u001B[0;34m=\u001B[0m\u001B[0mtag_nature\u001B[0m\u001B[0;34m)\u001B[0m\u001B[0;34m\u001B[0m\u001B[0;34m\u001B[0m\u001B[0m\n",
      "\u001B[0;32m~/opt/miniconda3/envs/gm-with-osm/lib/python3.9/site-packages/osmnx/graph.py\u001B[0m in \u001B[0;36mgraph_from_bbox\u001B[0;34m(north, south, east, west, network_type, simplify, retain_all, truncate_by_edge, clean_periphery, custom_filter)\u001B[0m\n\u001B[1;32m     79\u001B[0m \u001B[0;34m\u001B[0m\u001B[0m\n\u001B[1;32m     80\u001B[0m     \u001B[0;31m# create graph using this polygon geometry\u001B[0m\u001B[0;34m\u001B[0m\u001B[0;34m\u001B[0m\u001B[0;34m\u001B[0m\u001B[0m\n\u001B[0;32m---> 81\u001B[0;31m     G = graph_from_polygon(\n\u001B[0m\u001B[1;32m     82\u001B[0m         \u001B[0mpolygon\u001B[0m\u001B[0;34m,\u001B[0m\u001B[0;34m\u001B[0m\u001B[0;34m\u001B[0m\u001B[0m\n\u001B[1;32m     83\u001B[0m         \u001B[0mnetwork_type\u001B[0m\u001B[0;34m=\u001B[0m\u001B[0mnetwork_type\u001B[0m\u001B[0;34m,\u001B[0m\u001B[0;34m\u001B[0m\u001B[0;34m\u001B[0m\u001B[0m\n",
      "\u001B[0;32m~/opt/miniconda3/envs/gm-with-osm/lib/python3.9/site-packages/osmnx/graph.py\u001B[0m in \u001B[0;36mgraph_from_polygon\u001B[0;34m(polygon, network_type, simplify, retain_all, truncate_by_edge, clean_periphery, custom_filter)\u001B[0m\n\u001B[1;32m    438\u001B[0m         \u001B[0;31m# segments in the network, but in reality also connect to an\u001B[0m\u001B[0;34m\u001B[0m\u001B[0;34m\u001B[0m\u001B[0;34m\u001B[0m\u001B[0m\n\u001B[1;32m    439\u001B[0m         \u001B[0;31m# intersection just outside the polygon\u001B[0m\u001B[0;34m\u001B[0m\u001B[0;34m\u001B[0m\u001B[0;34m\u001B[0m\u001B[0m\n\u001B[0;32m--> 440\u001B[0;31m         \u001B[0mG\u001B[0m \u001B[0;34m=\u001B[0m \u001B[0mtruncate\u001B[0m\u001B[0;34m.\u001B[0m\u001B[0mtruncate_graph_polygon\u001B[0m\u001B[0;34m(\u001B[0m\u001B[0mG_buff\u001B[0m\u001B[0;34m,\u001B[0m \u001B[0mpolygon\u001B[0m\u001B[0;34m,\u001B[0m \u001B[0mretain_all\u001B[0m\u001B[0;34m,\u001B[0m \u001B[0mtruncate_by_edge\u001B[0m\u001B[0;34m)\u001B[0m\u001B[0;34m\u001B[0m\u001B[0;34m\u001B[0m\u001B[0m\n\u001B[0m\u001B[1;32m    441\u001B[0m \u001B[0;34m\u001B[0m\u001B[0m\n\u001B[1;32m    442\u001B[0m         \u001B[0;31m# count how many physical streets in buffered graph connect to each\u001B[0m\u001B[0;34m\u001B[0m\u001B[0;34m\u001B[0m\u001B[0;34m\u001B[0m\u001B[0m\n",
      "\u001B[0;32m~/opt/miniconda3/envs/gm-with-osm/lib/python3.9/site-packages/osmnx/truncate.py\u001B[0m in \u001B[0;36mtruncate_graph_polygon\u001B[0;34m(G, polygon, retain_all, truncate_by_edge, quadrat_width, min_num)\u001B[0m\n\u001B[1;32m    186\u001B[0m         \u001B[0;31m# remove any isolated nodes and retain only the largest component\u001B[0m\u001B[0;34m\u001B[0m\u001B[0;34m\u001B[0m\u001B[0;34m\u001B[0m\u001B[0m\n\u001B[1;32m    187\u001B[0m         \u001B[0mG\u001B[0m \u001B[0;34m=\u001B[0m \u001B[0mutils_graph\u001B[0m\u001B[0;34m.\u001B[0m\u001B[0mremove_isolated_nodes\u001B[0m\u001B[0;34m(\u001B[0m\u001B[0mG\u001B[0m\u001B[0;34m)\u001B[0m\u001B[0;34m\u001B[0m\u001B[0;34m\u001B[0m\u001B[0m\n\u001B[0;32m--> 188\u001B[0;31m         \u001B[0mG\u001B[0m \u001B[0;34m=\u001B[0m \u001B[0mutils_graph\u001B[0m\u001B[0;34m.\u001B[0m\u001B[0mget_largest_component\u001B[0m\u001B[0;34m(\u001B[0m\u001B[0mG\u001B[0m\u001B[0;34m)\u001B[0m\u001B[0;34m\u001B[0m\u001B[0;34m\u001B[0m\u001B[0m\n\u001B[0m\u001B[1;32m    189\u001B[0m \u001B[0;34m\u001B[0m\u001B[0m\n\u001B[1;32m    190\u001B[0m     \u001B[0mutils\u001B[0m\u001B[0;34m.\u001B[0m\u001B[0mlog\u001B[0m\u001B[0;34m(\u001B[0m\u001B[0;34m\"Truncated graph by polygon\"\u001B[0m\u001B[0;34m)\u001B[0m\u001B[0;34m\u001B[0m\u001B[0;34m\u001B[0m\u001B[0m\n",
      "\u001B[0;32m~/opt/miniconda3/envs/gm-with-osm/lib/python3.9/site-packages/osmnx/utils_graph.py\u001B[0m in \u001B[0;36mget_largest_component\u001B[0;34m(G, strongly)\u001B[0m\n\u001B[1;32m    338\u001B[0m         \u001B[0mconnected_components\u001B[0m \u001B[0;34m=\u001B[0m \u001B[0mnx\u001B[0m\u001B[0;34m.\u001B[0m\u001B[0mweakly_connected_components\u001B[0m\u001B[0;34m\u001B[0m\u001B[0;34m\u001B[0m\u001B[0m\n\u001B[1;32m    339\u001B[0m \u001B[0;34m\u001B[0m\u001B[0m\n\u001B[0;32m--> 340\u001B[0;31m     \u001B[0;32mif\u001B[0m \u001B[0;32mnot\u001B[0m \u001B[0mis_connected\u001B[0m\u001B[0;34m(\u001B[0m\u001B[0mG\u001B[0m\u001B[0;34m)\u001B[0m\u001B[0;34m:\u001B[0m\u001B[0;34m\u001B[0m\u001B[0;34m\u001B[0m\u001B[0m\n\u001B[0m\u001B[1;32m    341\u001B[0m         \u001B[0;31m# get all the connected components in graph then identify the largest\u001B[0m\u001B[0;34m\u001B[0m\u001B[0;34m\u001B[0m\u001B[0;34m\u001B[0m\u001B[0m\n\u001B[1;32m    342\u001B[0m         \u001B[0mlargest_cc\u001B[0m \u001B[0;34m=\u001B[0m \u001B[0mmax\u001B[0m\u001B[0;34m(\u001B[0m\u001B[0mconnected_components\u001B[0m\u001B[0;34m(\u001B[0m\u001B[0mG\u001B[0m\u001B[0;34m)\u001B[0m\u001B[0;34m,\u001B[0m \u001B[0mkey\u001B[0m\u001B[0;34m=\u001B[0m\u001B[0mlen\u001B[0m\u001B[0;34m)\u001B[0m\u001B[0;34m\u001B[0m\u001B[0;34m\u001B[0m\u001B[0m\n",
      "\u001B[0;32m<decorator-gen-316>\u001B[0m in \u001B[0;36mis_weakly_connected\u001B[0;34m(G)\u001B[0m\n",
      "\u001B[0;32m~/opt/miniconda3/envs/gm-with-osm/lib/python3.9/site-packages/networkx/utils/decorators.py\u001B[0m in \u001B[0;36m_not_implemented_for\u001B[0;34m(not_implement_for_func, *args, **kwargs)\u001B[0m\n\u001B[1;32m     76\u001B[0m             \u001B[0;32mraise\u001B[0m \u001B[0mnx\u001B[0m\u001B[0;34m.\u001B[0m\u001B[0mNetworkXNotImplemented\u001B[0m\u001B[0;34m(\u001B[0m\u001B[0mmsg\u001B[0m\u001B[0;34m)\u001B[0m\u001B[0;34m\u001B[0m\u001B[0;34m\u001B[0m\u001B[0m\n\u001B[1;32m     77\u001B[0m         \u001B[0;32melse\u001B[0m\u001B[0;34m:\u001B[0m\u001B[0;34m\u001B[0m\u001B[0;34m\u001B[0m\u001B[0m\n\u001B[0;32m---> 78\u001B[0;31m             \u001B[0;32mreturn\u001B[0m \u001B[0mnot_implement_for_func\u001B[0m\u001B[0;34m(\u001B[0m\u001B[0;34m*\u001B[0m\u001B[0margs\u001B[0m\u001B[0;34m,\u001B[0m \u001B[0;34m**\u001B[0m\u001B[0mkwargs\u001B[0m\u001B[0;34m)\u001B[0m\u001B[0;34m\u001B[0m\u001B[0;34m\u001B[0m\u001B[0m\n\u001B[0m\u001B[1;32m     79\u001B[0m \u001B[0;34m\u001B[0m\u001B[0m\n\u001B[1;32m     80\u001B[0m     \u001B[0;32mreturn\u001B[0m \u001B[0m_not_implemented_for\u001B[0m\u001B[0;34m\u001B[0m\u001B[0;34m\u001B[0m\u001B[0m\n",
      "\u001B[0;32m~/opt/miniconda3/envs/gm-with-osm/lib/python3.9/site-packages/networkx/algorithms/components/weakly_connected.py\u001B[0m in \u001B[0;36mis_weakly_connected\u001B[0;34m(G)\u001B[0m\n\u001B[1;32m    138\u001B[0m     \"\"\"\n\u001B[1;32m    139\u001B[0m     \u001B[0;32mif\u001B[0m \u001B[0mlen\u001B[0m\u001B[0;34m(\u001B[0m\u001B[0mG\u001B[0m\u001B[0;34m)\u001B[0m \u001B[0;34m==\u001B[0m \u001B[0;36m0\u001B[0m\u001B[0;34m:\u001B[0m\u001B[0;34m\u001B[0m\u001B[0;34m\u001B[0m\u001B[0m\n\u001B[0;32m--> 140\u001B[0;31m         raise nx.NetworkXPointlessConcept(\n\u001B[0m\u001B[1;32m    141\u001B[0m             \u001B[0;34m\"\"\"Connectivity is undefined for the null graph.\"\"\"\u001B[0m\u001B[0;34m\u001B[0m\u001B[0;34m\u001B[0m\u001B[0m\n\u001B[1;32m    142\u001B[0m         )\n",
      "\u001B[0;31mNetworkXPointlessConcept\u001B[0m: Connectivity is undefined for the null graph."
     ]
    }
   ],
   "source": [
    "create_map_from_osm(outfile=outfile, c_osm=c_osm, north=north, south=south, east=east, west=west)\n"
   ]
  },
  {
   "cell_type": "code",
   "execution_count": null,
   "metadata": {},
   "outputs": [],
   "source": []
  }
 ],
 "metadata": {
  "kernelspec": {
   "display_name": "Python 3",
   "language": "python",
   "name": "python3"
  },
  "language_info": {
   "codemirror_mode": {
    "name": "ipython",
    "version": 3
   },
   "file_extension": ".py",
   "mimetype": "text/x-python",
   "name": "python",
   "nbconvert_exporter": "python",
   "pygments_lexer": "ipython3",
   "version": "3.9.2"
  }
 },
 "nbformat": 4,
 "nbformat_minor": 1
}