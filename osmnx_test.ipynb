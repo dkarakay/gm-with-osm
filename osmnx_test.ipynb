{
 "cells": [
  {
   "cell_type": "markdown",
   "metadata": {},
   "source": [
    "# Building footprint (plus street network) figure-ground diagrams\n",
    "\n",
    "Author: [Geoff Boeing](https://geoffboeing.com/)\n",
    "\n",
    "Use OSMnx to download OpenStreetMap building footprints and visualize them as figure-ground diagrams.\n",
    "\n",
    "  - [Overview of OSMnx](http://geoffboeing.com/2016/11/osmnx-python-street-networks/)\n",
    "  - [GitHub repo](https://github.com/gboeing/osmnx)\n",
    "  - [Examples, demos, tutorials](https://github.com/gboeing/osmnx-examples)\n",
    "  - [Documentation](https://osmnx.readthedocs.io/en/stable/)\n",
    "  - [Journal article/citation](http://geoffboeing.com/publications/osmnx-complex-street-networks/)"
   ]
  },
  {
   "cell_type": "code",
   "execution_count": 36,
   "metadata": {},
   "outputs": [
    {
     "data": {
      "text/plain": [
       "'1.0.1'"
      ]
     },
     "execution_count": 36,
     "metadata": {},
     "output_type": "execute_result"
    }
   ],
   "source": [
    "import matplotlib.pyplot as plt\n",
    "import osmnx as ox\n",
    "from IPython.display import Image\n",
    "%matplotlib inline\n",
    "ox.config(log_console=True)\n",
    "ox.__version__"
   ]
  },
  {
   "cell_type": "code",
   "execution_count": 2,
   "metadata": {},
   "outputs": [],
   "source": [
    "# configure the inline image display\n",
    "img_folder = 'images'\n",
    "extension = 'png'\n",
    "size = 240\n",
    "\n",
    "# specify that we're retrieving building footprint geometries\n",
    "tags = {'building': True}"
   ]
  },
  {
   "cell_type": "markdown",
   "metadata": {},
   "source": [
    "## Building footprints within the city limits of Piedmont, California"
   ]
  },
  {
   "cell_type": "code",
   "execution_count": 3,
   "metadata": {},
   "outputs": [
    {
     "ename": "KeyboardInterrupt",
     "evalue": "",
     "output_type": "error",
     "traceback": [
      "\u001B[0;31m---------------------------------------------------------------------------\u001B[0m",
      "\u001B[0;31mKeyboardInterrupt\u001B[0m                         Traceback (most recent call last)",
      "\u001B[0;32m<ipython-input-3-5882faa8cc2c>\u001B[0m in \u001B[0;36m<module>\u001B[0;34m\u001B[0m\n\u001B[0;32m----> 1\u001B[0;31m \u001B[0mgdf\u001B[0m \u001B[0;34m=\u001B[0m \u001B[0mox\u001B[0m\u001B[0;34m.\u001B[0m\u001B[0mgeometries_from_place\u001B[0m\u001B[0;34m(\u001B[0m\u001B[0;34m'Piedmont, California, USA'\u001B[0m\u001B[0;34m,\u001B[0m \u001B[0mtags\u001B[0m\u001B[0;34m)\u001B[0m\u001B[0;34m\u001B[0m\u001B[0;34m\u001B[0m\u001B[0m\n\u001B[0m\u001B[1;32m      2\u001B[0m \u001B[0mgdf_proj\u001B[0m \u001B[0;34m=\u001B[0m \u001B[0mox\u001B[0m\u001B[0;34m.\u001B[0m\u001B[0mproject_gdf\u001B[0m\u001B[0;34m(\u001B[0m\u001B[0mgdf\u001B[0m\u001B[0;34m)\u001B[0m\u001B[0;34m\u001B[0m\u001B[0;34m\u001B[0m\u001B[0m\n\u001B[1;32m      3\u001B[0m \u001B[0mfp\u001B[0m \u001B[0;34m=\u001B[0m \u001B[0;34mf'./{img_folder}/piedmont_bldgs.{extension}'\u001B[0m\u001B[0;34m\u001B[0m\u001B[0;34m\u001B[0m\u001B[0m\n\u001B[1;32m      4\u001B[0m \u001B[0mfig\u001B[0m\u001B[0;34m,\u001B[0m \u001B[0max\u001B[0m \u001B[0;34m=\u001B[0m \u001B[0mox\u001B[0m\u001B[0;34m.\u001B[0m\u001B[0mplot_footprints\u001B[0m\u001B[0;34m(\u001B[0m\u001B[0mgdf_proj\u001B[0m\u001B[0;34m,\u001B[0m \u001B[0mfilepath\u001B[0m\u001B[0;34m=\u001B[0m\u001B[0mfp\u001B[0m\u001B[0;34m,\u001B[0m \u001B[0mdpi\u001B[0m\u001B[0;34m=\u001B[0m\u001B[0;36m400\u001B[0m\u001B[0;34m,\u001B[0m \u001B[0msave\u001B[0m\u001B[0;34m=\u001B[0m\u001B[0;32mTrue\u001B[0m\u001B[0;34m,\u001B[0m \u001B[0mshow\u001B[0m\u001B[0;34m=\u001B[0m\u001B[0;32mFalse\u001B[0m\u001B[0;34m,\u001B[0m \u001B[0mclose\u001B[0m\u001B[0;34m=\u001B[0m\u001B[0;32mTrue\u001B[0m\u001B[0;34m)\u001B[0m\u001B[0;34m\u001B[0m\u001B[0;34m\u001B[0m\u001B[0m\n\u001B[1;32m      5\u001B[0m \u001B[0mImage\u001B[0m\u001B[0;34m(\u001B[0m\u001B[0mfp\u001B[0m\u001B[0;34m,\u001B[0m \u001B[0mheight\u001B[0m\u001B[0;34m=\u001B[0m\u001B[0msize\u001B[0m\u001B[0;34m,\u001B[0m \u001B[0mwidth\u001B[0m\u001B[0;34m=\u001B[0m\u001B[0msize\u001B[0m\u001B[0;34m)\u001B[0m\u001B[0;34m\u001B[0m\u001B[0;34m\u001B[0m\u001B[0m\n",
      "\u001B[0;32m~/opt/miniconda3/envs/gm-with-osm/lib/python3.9/site-packages/osmnx/geometries.py\u001B[0m in \u001B[0;36mgeometries_from_place\u001B[0;34m(query, tags, which_result, buffer_dist)\u001B[0m\n\u001B[1;32m    200\u001B[0m         \u001B[0;31m# if it is a string (place name) or dict (structured place query),\u001B[0m\u001B[0;34m\u001B[0m\u001B[0;34m\u001B[0m\u001B[0;34m\u001B[0m\u001B[0m\n\u001B[1;32m    201\u001B[0m         \u001B[0;31m# then it is a single place\u001B[0m\u001B[0;34m\u001B[0m\u001B[0;34m\u001B[0m\u001B[0;34m\u001B[0m\u001B[0m\n\u001B[0;32m--> 202\u001B[0;31m         gdf_place = geocoder.geocode_to_gdf(\n\u001B[0m\u001B[1;32m    203\u001B[0m             \u001B[0mquery\u001B[0m\u001B[0;34m,\u001B[0m \u001B[0mwhich_result\u001B[0m\u001B[0;34m=\u001B[0m\u001B[0mwhich_result\u001B[0m\u001B[0;34m,\u001B[0m \u001B[0mbuffer_dist\u001B[0m\u001B[0;34m=\u001B[0m\u001B[0mbuffer_dist\u001B[0m\u001B[0;34m\u001B[0m\u001B[0;34m\u001B[0m\u001B[0m\n\u001B[1;32m    204\u001B[0m         )\n",
      "\u001B[0;32m~/opt/miniconda3/envs/gm-with-osm/lib/python3.9/site-packages/osmnx/geocoder.py\u001B[0m in \u001B[0;36mgeocode_to_gdf\u001B[0;34m(query, which_result, by_osmid, buffer_dist)\u001B[0m\n\u001B[1;32m    108\u001B[0m     \u001B[0mgdf\u001B[0m \u001B[0;34m=\u001B[0m \u001B[0mgpd\u001B[0m\u001B[0;34m.\u001B[0m\u001B[0mGeoDataFrame\u001B[0m\u001B[0;34m(\u001B[0m\u001B[0;34m)\u001B[0m\u001B[0;34m\u001B[0m\u001B[0;34m\u001B[0m\u001B[0m\n\u001B[1;32m    109\u001B[0m     \u001B[0;32mfor\u001B[0m \u001B[0mq\u001B[0m\u001B[0;34m,\u001B[0m \u001B[0mwr\u001B[0m \u001B[0;32min\u001B[0m \u001B[0mzip\u001B[0m\u001B[0;34m(\u001B[0m\u001B[0mquery\u001B[0m\u001B[0;34m,\u001B[0m \u001B[0mwhich_result\u001B[0m\u001B[0;34m)\u001B[0m\u001B[0;34m:\u001B[0m\u001B[0;34m\u001B[0m\u001B[0;34m\u001B[0m\u001B[0m\n\u001B[0;32m--> 110\u001B[0;31m         \u001B[0mgdf\u001B[0m \u001B[0;34m=\u001B[0m \u001B[0mgdf\u001B[0m\u001B[0;34m.\u001B[0m\u001B[0mappend\u001B[0m\u001B[0;34m(\u001B[0m\u001B[0m_geocode_query_to_gdf\u001B[0m\u001B[0;34m(\u001B[0m\u001B[0mq\u001B[0m\u001B[0;34m,\u001B[0m \u001B[0mwr\u001B[0m\u001B[0;34m,\u001B[0m \u001B[0mby_osmid\u001B[0m\u001B[0;34m)\u001B[0m\u001B[0;34m)\u001B[0m\u001B[0;34m\u001B[0m\u001B[0;34m\u001B[0m\u001B[0m\n\u001B[0m\u001B[1;32m    111\u001B[0m \u001B[0;34m\u001B[0m\u001B[0m\n\u001B[1;32m    112\u001B[0m     \u001B[0;31m# reset GeoDataFrame index and set its CRS\u001B[0m\u001B[0;34m\u001B[0m\u001B[0;34m\u001B[0m\u001B[0;34m\u001B[0m\u001B[0m\n",
      "\u001B[0;32m~/opt/miniconda3/envs/gm-with-osm/lib/python3.9/site-packages/osmnx/geocoder.py\u001B[0m in \u001B[0;36m_geocode_query_to_gdf\u001B[0;34m(query, which_result, by_osmid)\u001B[0m\n\u001B[1;32m    151\u001B[0m         \u001B[0mlimit\u001B[0m \u001B[0;34m=\u001B[0m \u001B[0mwhich_result\u001B[0m\u001B[0;34m\u001B[0m\u001B[0;34m\u001B[0m\u001B[0m\n\u001B[1;32m    152\u001B[0m \u001B[0;34m\u001B[0m\u001B[0m\n\u001B[0;32m--> 153\u001B[0;31m     \u001B[0mresults\u001B[0m \u001B[0;34m=\u001B[0m \u001B[0mdownloader\u001B[0m\u001B[0;34m.\u001B[0m\u001B[0m_osm_place_download\u001B[0m\u001B[0;34m(\u001B[0m\u001B[0mquery\u001B[0m\u001B[0;34m,\u001B[0m \u001B[0mby_osmid\u001B[0m\u001B[0;34m=\u001B[0m\u001B[0mby_osmid\u001B[0m\u001B[0;34m,\u001B[0m \u001B[0mlimit\u001B[0m\u001B[0;34m=\u001B[0m\u001B[0mlimit\u001B[0m\u001B[0;34m)\u001B[0m\u001B[0;34m\u001B[0m\u001B[0;34m\u001B[0m\u001B[0m\n\u001B[0m\u001B[1;32m    154\u001B[0m \u001B[0;34m\u001B[0m\u001B[0m\n\u001B[1;32m    155\u001B[0m     \u001B[0;31m# choose the right result from the JSON response\u001B[0m\u001B[0;34m\u001B[0m\u001B[0;34m\u001B[0m\u001B[0;34m\u001B[0m\u001B[0m\n",
      "\u001B[0;32m~/opt/miniconda3/envs/gm-with-osm/lib/python3.9/site-packages/osmnx/downloader.py\u001B[0m in \u001B[0;36m_osm_place_download\u001B[0;34m(query, by_osmid, limit, polygon_geojson)\u001B[0m\n\u001B[1;32m    550\u001B[0m \u001B[0;34m\u001B[0m\u001B[0m\n\u001B[1;32m    551\u001B[0m     \u001B[0;31m# request the URL, return the JSON\u001B[0m\u001B[0;34m\u001B[0m\u001B[0;34m\u001B[0m\u001B[0;34m\u001B[0m\u001B[0m\n\u001B[0;32m--> 552\u001B[0;31m     \u001B[0mresponse_json\u001B[0m \u001B[0;34m=\u001B[0m \u001B[0mnominatim_request\u001B[0m\u001B[0;34m(\u001B[0m\u001B[0mparams\u001B[0m\u001B[0;34m=\u001B[0m\u001B[0mparams\u001B[0m\u001B[0;34m,\u001B[0m \u001B[0mrequest_type\u001B[0m\u001B[0;34m=\u001B[0m\u001B[0mrequest_type\u001B[0m\u001B[0;34m)\u001B[0m\u001B[0;34m\u001B[0m\u001B[0;34m\u001B[0m\u001B[0m\n\u001B[0m\u001B[1;32m    553\u001B[0m     \u001B[0;32mreturn\u001B[0m \u001B[0mresponse_json\u001B[0m\u001B[0;34m\u001B[0m\u001B[0;34m\u001B[0m\u001B[0m\n\u001B[1;32m    554\u001B[0m \u001B[0;34m\u001B[0m\u001B[0m\n",
      "\u001B[0;32m~/opt/miniconda3/envs/gm-with-osm/lib/python3.9/site-packages/osmnx/downloader.py\u001B[0m in \u001B[0;36mnominatim_request\u001B[0;34m(params, request_type, pause, error_pause)\u001B[0m\n\u001B[1;32m    592\u001B[0m         \u001B[0;31m# if this URL is not already in the cache, pause, then request it\u001B[0m\u001B[0;34m\u001B[0m\u001B[0;34m\u001B[0m\u001B[0;34m\u001B[0m\u001B[0m\n\u001B[1;32m    593\u001B[0m         \u001B[0mutils\u001B[0m\u001B[0;34m.\u001B[0m\u001B[0mlog\u001B[0m\u001B[0;34m(\u001B[0m\u001B[0;34mf\"Pausing {pause} seconds before making HTTP GET request\"\u001B[0m\u001B[0;34m)\u001B[0m\u001B[0;34m\u001B[0m\u001B[0;34m\u001B[0m\u001B[0m\n\u001B[0;32m--> 594\u001B[0;31m         \u001B[0mtime\u001B[0m\u001B[0;34m.\u001B[0m\u001B[0msleep\u001B[0m\u001B[0;34m(\u001B[0m\u001B[0mpause\u001B[0m\u001B[0;34m)\u001B[0m\u001B[0;34m\u001B[0m\u001B[0;34m\u001B[0m\u001B[0m\n\u001B[0m\u001B[1;32m    595\u001B[0m \u001B[0;34m\u001B[0m\u001B[0m\n\u001B[1;32m    596\u001B[0m         \u001B[0;31m# transmit the HTTP GET request\u001B[0m\u001B[0;34m\u001B[0m\u001B[0;34m\u001B[0m\u001B[0;34m\u001B[0m\u001B[0m\n",
      "\u001B[0;31mKeyboardInterrupt\u001B[0m: "
     ]
    }
   ],
   "source": [
    "gdf = ox.geometries_from_place('Piedmont, California, USA', tags)\n",
    "gdf_proj = ox.project_gdf(gdf)\n",
    "fp = f'./{img_folder}/piedmont_bldgs.{extension}'\n",
    "fig, ax = ox.plot_footprints(gdf_proj, filepath=fp, dpi=400, save=True, show=False, close=True)\n",
    "Image(fp, height=size, width=size)"
   ]
  },
  {
   "cell_type": "code",
   "execution_count": null,
   "metadata": {},
   "outputs": [],
   "source": [
    "# save as a shapefile\n",
    "gdf_save = gdf.applymap(lambda x: str(x) if isinstance(x, list) else x)\n",
    "gdf_save.drop(labels='nodes', axis=1).to_file('./data/piedmont_bldgs.gpkg', driver='GPKG')"
   ]
  },
  {
   "cell_type": "markdown",
   "metadata": {},
   "source": [
    "#### Now let's analyze the size of the building footprints..."
   ]
  },
  {
   "cell_type": "code",
   "execution_count": null,
   "metadata": {
    "pycharm": {
     "is_executing": true
    }
   },
   "outputs": [],
   "source": [
    "# calculate the area in projected units (meters) of each building footprint, then display first five\n",
    "areas = gdf_proj.area\n",
    "areas.head()"
   ]
  },
  {
   "cell_type": "code",
   "execution_count": null,
   "metadata": {
    "pycharm": {
     "is_executing": true
    }
   },
   "outputs": [],
   "source": [
    "# total area (sq m) covered by building footprints\n",
    "sum(areas)"
   ]
  },
  {
   "cell_type": "code",
   "execution_count": null,
   "metadata": {
    "pycharm": {
     "is_executing": true
    }
   },
   "outputs": [],
   "source": [
    "# get the total area within Piedmont's admin boundary in sq meters\n",
    "place = ox.geocode_to_gdf('Piedmont, California, USA')\n",
    "place_proj = ox.project_gdf(place)\n",
    "place_proj.area.iloc[0]"
   ]
  },
  {
   "cell_type": "code",
   "execution_count": null,
   "metadata": {
    "pycharm": {
     "is_executing": true
    }
   },
   "outputs": [],
   "source": [
    "# what proportion of piedmont is covered by building footprints?\n",
    "sum(areas) / place_proj.area.iloc[0]"
   ]
  },
  {
   "cell_type": "markdown",
   "metadata": {},
   "source": [
    "## One and a half square kilometers near the Arc de Triomphe"
   ]
  },
  {
   "cell_type": "code",
   "execution_count": null,
   "metadata": {
    "pycharm": {
     "is_executing": true
    }
   },
   "outputs": [],
   "source": [
    "point = (40.036123, -83.1441865)\n",
    "dist = 612\n",
    "# define a bounding box in San Francisco\n",
    "north, south, east, west = 37.79, 37.78, -122.41, -122.43\n",
    "\n",
    "# create network from that bounding box\n",
    "G = ox.graph_from_bbox(north, south, east, west, network_type='drive_service')\n",
    "gdf = ox.geometries_from_point(point, tags, dist=dist)\n",
    "gdf_proj = ox.project_gdf(gdf)\n",
    "bbox = ox.utils_geo.bbox_from_point(point=point, dist=dist, project_utm=True)\n",
    "fp = f'./{img_folder}/paris_bldgs.{extension}'\n",
    "#fig, ax = ox.plot_figure_ground(point=point, dist=dist, network_type=network_type, default_width=default_width,\n",
    "                   #                 street_widths=street_widths, save=False, show=False, close=True)\n",
    "fig, ax = ox.plot_footprints(gdf_proj, bbox=bbox, color='w', filepath=fp, dpi=90,\n",
    "                             save=True, show=False, close=True)\n",
    "Image(fp, height=size, width=size)"
   ]
  },
  {
   "cell_type": "markdown",
   "metadata": {},
   "source": [
    "## Street network + building footprints: square-mile visualizations\n",
    "\n",
    "Plot and save to disk as .png"
   ]
  },
  {
   "cell_type": "code",
   "execution_count": null,
   "metadata": {
    "pycharm": {
     "is_executing": true
    }
   },
   "outputs": [],
   "source": [
    "# helper funcion to get one-square-mile street networks, building footprints, and plot them\n",
    "def make_plot(place, point, network_type='drive', dpi=100, dist=2000, default_width=4, street_widths=None):\n",
    "    fp = f'./{img_folder}/{place}.{extension}'\n",
    "    gdf = ox.geometries_from_point(point, tags, dist=dist)\n",
    "    fig, ax = ox.plot_figure_ground(point=point, dist=dist, network_type=network_type, default_width=default_width,\n",
    "                                    street_widths=street_widths, save=False, show=False, close=True)\n",
    "    fig, ax = ox.plot_footprints(gdf, ax=ax, filepath=fp, dpi=dpi, save=True, show=False, close=True)"
   ]
  },
  {
   "cell_type": "code",
   "execution_count": null,
   "metadata": {
    "pycharm": {
     "is_executing": true
    }
   },
   "outputs": [],
   "source": [
    "place = 'portland_buildings'\n",
    "point = (45.517309, -122.682138)\n",
    "make_plot(place, point)"
   ]
  },
  {
   "cell_type": "code",
   "execution_count": null,
   "metadata": {
    "pycharm": {
     "is_executing": true
    }
   },
   "outputs": [],
   "source": [
    "place = 'richmond_district_buildings'\n",
    "point = (37.781999, -122.472501)\n",
    "make_plot(place, point)"
   ]
  },
  {
   "cell_type": "code",
   "execution_count": null,
   "metadata": {
    "pycharm": {
     "is_executing": true
    }
   },
   "outputs": [],
   "source": [
    "place = 'port_au_prince_buildings'\n",
    "point = (18.522240, -72.347607)\n",
    "make_plot(place, point, network_type='all', default_width=1, street_widths={'secondary':3})"
   ]
  },
  {
   "cell_type": "code",
   "execution_count": null,
   "metadata": {
    "pycharm": {
     "is_executing": true
    }
   },
   "outputs": [],
   "source": [
    "place = 'monrovia_liberia_buildings'\n",
    "point = (6.340236, -10.747255)\n",
    "make_plot(place, point, network_type='all', default_width=2, street_widths={'primary':3})"
   ]
  },
  {
   "cell_type": "code",
   "execution_count": null,
   "metadata": {
    "pycharm": {
     "is_executing": true
    }
   },
   "outputs": [],
   "source": [
    "place='hillard_ohio'\n",
    "point = (40.036123, -83.1441865)\n",
    "make_plot(place, point)"
   ]
  },
  {
   "cell_type": "code",
   "execution_count": null,
   "metadata": {
    "pycharm": {
     "is_executing": true
    }
   },
   "outputs": [],
   "source": [
    "# helper funcion to get one-square-mile street networks, building footprints, and plot them\n",
    "def make_plot_2(place,north,south,east,west, network_type='drive', dpi=200, default_width=2, street_widths=None):\n",
    "    fp = f'./{img_folder}/{place}.{extension}'\n",
    "    tags = {'building': True}\n",
    "    G = ox.graph_from_bbox(north, south, east, west, network_type=network_type)\n",
    "    gdf_building = ox.geometries_from_bbox(north, south, east, west, tags={'building':True})\n",
    "    gdf_nature = ox.geometries_from_bbox(north, south, east, west, tags={'natural':True,'landuse':'forest','landuse':'grass'})\n",
    "    gdf_water = ox.geometries_from_bbox(north, south, east, west, tags={'natural':'water'})\n",
    "    fig, ax = ox.plot_figure_ground(G,street_widths=street_widths,default_width=default_width,save=False, show=False, close=True)\n",
    "    fig, ax= ox.plot_footprints(gdf_nature, color='green', ax=ax, filepath=fp, dpi=dpi, save=True, show=False, close=True)    \n",
    "    fig, ax= ox.plot_footprints(gdf_water, color='blue', ax=ax, filepath=fp, dpi=dpi, save=True, show=False, close=True)    \n",
    "    fig, ax = ox.plot_footprints(gdf_building,ax=ax, filepath=fp, dpi=dpi, save=True, show=False, close=True)"
   ]
  },
  {
   "cell_type": "code",
   "execution_count": null,
   "metadata": {
    "pycharm": {
     "is_executing": true
    }
   },
   "outputs": [],
   "source": [
    "place='hillard_ohio_latest'\n",
    "make_plot_2(place, north=40.067995,south=40.004251,west=-83.195513,east=-83.092860 ,street_widths={'primary':2})"
   ]
  },
  {
   "cell_type": "code",
   "execution_count": 53,
   "metadata": {},
   "outputs": [],
   "source": [
    "def getting_boundary_coordinates(lat: float, long: float) -> (float, float, float, float):\n",
    "    lat_coef = 0.00032\n",
    "    long_coef = 0.00094\n",
    "\n",
    "    north = lat + lat_coef\n",
    "    south = lat - lat_coef\n",
    "    east = long + long_coef\n",
    "    west = long - long_coef\n",
    "\n",
    "    return north, south, west, east"
   ]
  },
  {
   "cell_type": "code",
   "execution_count": 54,
   "metadata": {},
   "outputs": [
    {
     "data": {
      "text/plain": [
       "(40.000453, 39.999812999999996, -83.0139806, -83.0121006)"
      ]
     },
     "execution_count": 54,
     "metadata": {},
     "output_type": "execute_result"
    }
   ],
   "source": [
    "zoom = 20\n",
    "getting_boundary_coordinates(lat=40.000133,long=-83.0130406)\n"
   ]
  },
  {
   "cell_type": "code",
   "execution_count": 28,
   "metadata": {},
   "outputs": [
    {
     "name": "stdout",
     "output_type": "stream",
     "text": [
      "40.0004801\n"
     ]
    }
   ],
   "source": [
    "print(north)"
   ]
  },
  {
   "cell_type": "code",
   "execution_count": 29,
   "metadata": {},
   "outputs": [
    {
     "name": "stdout",
     "output_type": "stream",
     "text": [
      "39.9997859\n"
     ]
    }
   ],
   "source": [
    "print(south)"
   ]
  },
  {
   "cell_type": "code",
   "execution_count": 30,
   "metadata": {},
   "outputs": [
    {
     "name": "stdout",
     "output_type": "stream",
     "text": [
      "-83.01350228939043\n"
     ]
    }
   ],
   "source": [
    "print(west)"
   ]
  },
  {
   "cell_type": "code",
   "execution_count": 31,
   "metadata": {},
   "outputs": [
    {
     "name": "stdout",
     "output_type": "stream",
     "text": [
      "-83.01257891060956\n"
     ]
    }
   ],
   "source": [
    "print(east)"
   ]
  },
  {
   "cell_type": "code",
   "execution_count": null,
   "metadata": {},
   "outputs": [],
   "source": [
    "def converting_zoom_to_meters(lat1,lon1,b):\n",
    "    origin = geopy.Point(lat1, lon1)\n",
    "    destination = VincentyDistance(kilometers=d/1000).destination(origin, b)\n",
    "\n",
    "    lat2, lon2 = destination.latitude, destination.longitude\n",
    "    return lat2,lon2"
   ]
  }
 ],
 "metadata": {
  "anaconda-cloud": {},
  "kernelspec": {
   "display_name": "Python 3",
   "language": "python",
   "name": "python3"
  },
  "language_info": {
   "codemirror_mode": {
    "name": "ipython",
    "version": 3
   },
   "file_extension": ".py",
   "mimetype": "text/x-python",
   "name": "python",
   "nbconvert_exporter": "python",
   "pygments_lexer": "ipython3",
   "version": "3.9.2"
  }
 },
 "nbformat": 4,
 "nbformat_minor": 4
}